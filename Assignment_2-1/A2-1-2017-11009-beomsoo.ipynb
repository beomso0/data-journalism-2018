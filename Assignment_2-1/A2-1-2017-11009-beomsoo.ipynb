{
 "cells": [
  {
   "cell_type": "markdown",
   "metadata": {},
   "source": [
    "# Assignment \\#2-1: Python Crash Course 1\n",
    "\n",
    "* 제출 방법: ETL (다음 주 일요일 9/19 자정까지)\n",
    "* 파일 이름: A2-1-학번-이름(영어로).iphynb 형식으로 (예: A2-1-13403-999-jiyoon.iphynb)"
   ]
  },
  {
   "cell_type": "markdown",
   "metadata": {},
   "source": [
    "#1. 다음의 프로그램을 작성하시오. (input()함수를 사용할 것)\n",
    "\n",
    "> 안녕하세요. 성을 입력해 주세요:  (성 입력의 예: 홍)\n",
    ">\n",
    "> 이름을 입력해 주세요:  (이름 입력의 예: 길동)\n",
    ">\n",
    "> 홍길동님의 나이는 몇살인가요: (나이 입력의 예: 30)\n",
    ">\n",
    "> 홍길동님은 지금까지 모두 ** xxxx **초를 살아왔군요.  \n",
    ">\n",
    "> 지금까지 이용해 주셔서 감사합니다. 홍길동님.\n",
    "\n",
    "(참고) 입력받은 나이는 숫자(int)가 아니라 문자열(string)임. 윤년 계산 등은 무시할 것."
   ]
  },
  {
   "cell_type": "code",
   "execution_count": 2,
   "metadata": {
    "scrolled": true
   },
   "outputs": [
    {
     "name": "stdout",
     "output_type": "stream",
     "text": [
      "안녕하세요. 성을 입력해 주세요   김\n",
      "이름을 입력해 주세요.   범수\n",
      "김범수님의 나이는 몇살인가요   21\n",
      "김범수님은 지금까지 모두 662256000초를 살아왔군요.\n",
      "이용해주셔서 감사합니다.김범수님.\n"
     ]
    }
   ],
   "source": [
    "# 여기에 코드를 입력하세요.\n",
    "\n",
    "second = input(\"안녕하세요. 성을 입력해 주세요   \")\n",
    "name = input(\"이름을 입력해 주세요.   \")\n",
    "age = input(second + name + \"님의 나이는 몇살인가요   \" )\n",
    "sec = int(age) * 31536000\n",
    "print (second + name + \"님은 지금까지 모두 \" + str(sec) + \"\"\"초를 살아왔군요.\n",
    "이용해주셔서 감사합니다.\"\"\" + second + name + \"님.\")"
   ]
  },
  {
   "cell_type": "markdown",
   "metadata": {},
   "source": [
    "#2. 다음을 계산하는 메소드를 만들고 계산 예를 적으시오.\n",
    "\n",
    "> 섭씨 <-> 화씨 변환 \n",
    "\n",
    "> 인치 <-> 센치 변환\n",
    "\n",
    "출력의 예: \n",
    "\n",
    "> 섭씨 oo도는 화씨로 oo도 입니다.\n",
    "\n",
    "> oo인치는 oo센티미터 입니다.\n",
    "\n",
    "(참고) round() 함수를 사용해 보자: round() 함수는 지정한 소수점에서 반올림하여 결과를 표시한다.\n",
    "\n",
    "> round(3.954839283, 3) # 소수점 3째 자리에서 반올림\n",
    "\n",
    "> 3.955 "
   ]
  },
  {
   "cell_type": "code",
   "execution_count": 15,
   "metadata": {},
   "outputs": [
    {
     "name": "stdout",
     "output_type": "stream",
     "text": [
      "예시1\n",
      "섭씨 43도는 화씨로 109.4도 입니다.\n",
      "\n",
      "예시2\n",
      "화씨 323도는 섭씨로 161.667도 입니다.\n",
      "\n",
      "예시3\n",
      "2인치는 5.08센치 입니다.\n",
      "\n",
      "예시4\n",
      "3센치는 1.181인치 입니다.\n"
     ]
    }
   ],
   "source": [
    "#섭씨 --> 화씨 변환\n",
    "def ctof(c) :\n",
    "    return \"섭씨 \" + str(c) + \"도는 화씨로 \" + str(round(9/5*c + 32,3)) + \"도 입니다.\"\n",
    "#예시\n",
    "print (\"\"\"예시1\n",
    "\"\"\"+ctof(43))\n",
    "\n",
    "\n",
    "#화씨 --> 섭씨 변환\n",
    "def ftoc(f) :\n",
    "    return \"화씨 \" + str(f) + \"도는 섭씨로 \" + str(round((f-32)*5/9,3)) + \"도 입니다.\"\n",
    "#예시\n",
    "print(\"\"\"\n",
    "예시2\n",
    "\"\"\"+ftoc(323))\n",
    "\n",
    "\n",
    "#인치-->센치 변환\n",
    "def itocen(i):\n",
    "    return str(i) + \"인치는 \" + str(round(i*2.54,3)) + \"센치 입니다.\"\n",
    "#예시\n",
    "print(\"\"\"\n",
    "예시3\n",
    "\"\"\"+itocen(2))\n",
    "\n",
    "\n",
    "#센치 --> 인치 변환\n",
    "def centoi(cen):\n",
    "    return str(cen) + \"센치는 \" + str(round(cen/2.54,3)) + \"인치 입니다.\"\n",
    "#예시\n",
    "print(\"\"\"\n",
    "예시4\n",
    "\"\"\"+centoi(3))"
   ]
  },
  {
   "cell_type": "markdown",
   "metadata": {},
   "source": [
    "#3. 다음을 출력하는 프로그램을 작성하시오.\n",
    "\n",
    "> 오늘은 oooo년 o월 o일, 크리스마스까지는 oo일 이나 남았네. 이 수업도 이제 oo번 밖에 안남았구나!"
   ]
  },
  {
   "cell_type": "code",
   "execution_count": 8,
   "metadata": {},
   "outputs": [
    {
     "name": "stdout",
     "output_type": "stream",
     "text": [
      "오늘은 2018년 09월 23일, 크리스마스까지는 92일 이나 남았네. 이 수업도 이제 13번밖에 안남았구나!\n"
     ]
    }
   ],
   "source": [
    "from datetime import datetime, date, time\n",
    "now = datetime.now()\n",
    "xmas = datetime(2018,12,25,0,0,0)\n",
    "end = datetime(2018,12,17,0,0,0)\n",
    "deltax = xmas - now\n",
    "deltac = end - now\n",
    "def classes(x):\n",
    "    if x >= 91:\n",
    "        return int(x/7) - 1\n",
    "    else:\n",
    "        return int(x/7) + 1\n",
    "print(\"오늘은 \" + now.strftime(\"%Y\") + \"년 \" + now.strftime(\"%m\") + \"월 \" \n",
    "      + now.strftime(\"%d\") + \"일\" + \", 크리스마스까지는 \" \n",
    "      + str(deltax.days)+ \"일 이나 남았네. 이 수업도 이제 \" + str(classes(deltac.days)) \n",
    "      + \"번밖에 안남았구나!\")"
   ]
  },
  {
   "cell_type": "code",
   "execution_count": null,
   "metadata": {},
   "outputs": [],
   "source": []
  }
 ],
 "metadata": {
  "kernelspec": {
   "display_name": "Python 3",
   "language": "python",
   "name": "python3"
  },
  "language_info": {
   "codemirror_mode": {
    "name": "ipython",
    "version": 3
   },
   "file_extension": ".py",
   "mimetype": "text/x-python",
   "name": "python",
   "nbconvert_exporter": "python",
   "pygments_lexer": "ipython3",
   "version": "3.7.0"
  }
 },
 "nbformat": 4,
 "nbformat_minor": 1
}
