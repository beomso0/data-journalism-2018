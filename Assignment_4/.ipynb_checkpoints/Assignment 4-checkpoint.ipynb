{
 "cells": [
  {
   "cell_type": "markdown",
   "metadata": {},
   "source": [
    "## Assignment 4 - Text Analysis\n",
    "\n",
    "이번 과제에서는 주어진 텍스트를 분석하여 워드클라우드 그래프를 그린다.\n",
    "\n",
    "* 제출 방법: GitHub (11/11 자정까지)\n",
    "* 파일 이름: A4-학번-이름(영어로).iphynb 형식으로 (예: A4-13403-999-jiyoon.iphynb)"
   ]
  },
  {
   "cell_type": "markdown",
   "metadata": {},
   "source": [
    "### Dataset\n",
    "\n",
    "주어진 데이터는 네이버에서 크롤링한 영화평이다.\n",
    "\n",
    "데이터는 다음과 같이 구성되어 있다.\n",
    "\n",
    "```\n",
    "id\tdocument\tlabel\n",
    "2190435\t사랑을 해본사람이라면 처음부터 끝까지 웃을수 있는영화\t1\n",
    "9279041\t완전 감동입니다 다시봐도 감동\t1\n",
    "7865729\t개들의 전쟁2 나오나요? 나오면 1빠로 보고 싶음\t1\n",
    "...\n",
    "9327892\t타임 루프 소재중 거의 최악. 감독과 작가부터 자기 반성의 시간을 갖자\t0\n",
    "9953525\t이쪽 저쪽 ...어디서 본듯한...내용이 뒤죽박죽 순수창작물인지?\t0\n",
    "7744648\t전기세가 아까운 영화!\t0\n",
    "```\n",
    "\n",
    "데이터를 보면 알 수 있듯이 긍정적인 평은 label이 1,\n",
    "부정적인 평은 label 이 0이다.\n",
    "\n"
   ]
  },
  {
   "cell_type": "markdown",
   "metadata": {},
   "source": [
    "### Q1: 긍정적인 리뷰를 선별하고 random 하게 리뷰 1000개를 선택한 후 형용사의 wordcloud를 그리시오"
   ]
  },
  {
   "cell_type": "code",
   "execution_count": 2,
   "metadata": {},
   "outputs": [
    {
     "data": {
      "text/plain": [
       "7744648"
      ]
     },
     "execution_count": 2,
     "metadata": {},
     "output_type": "execute_result"
    }
   ],
   "source": [
    "\n"
   ]
  },
  {
   "cell_type": "markdown",
   "metadata": {},
   "source": [
    "### Q2: 부정적인 리뷰를 선별하고 random 하게 리뷰 1000개를 선택한 후 형용사의 wordcloud를 그리시오"
   ]
  },
  {
   "cell_type": "code",
   "execution_count": null,
   "metadata": {
    "collapsed": true
   },
   "outputs": [],
   "source": []
  }
 ],
 "metadata": {
  "kernelspec": {
   "display_name": "Python 3",
   "language": "python",
   "name": "python3"
  },
  "language_info": {
   "codemirror_mode": {
    "name": "ipython",
    "version": 3
   },
   "file_extension": ".py",
   "mimetype": "text/x-python",
   "name": "python",
   "nbconvert_exporter": "python",
   "pygments_lexer": "ipython3",
   "version": "3.7.0"
  }
 },
 "nbformat": 4,
 "nbformat_minor": 1
}
